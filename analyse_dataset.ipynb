{
 "cells": [
  {
   "cell_type": "code",
   "execution_count": 47,
   "metadata": {},
   "outputs": [],
   "source": [
    "import matplotlib.pyplot as plt\n",
    "import pandas as pd\n",
    "from ast import literal_eval"
   ]
  },
  {
   "cell_type": "code",
   "execution_count": 48,
   "metadata": {},
   "outputs": [],
   "source": [
    "# read dataset\n",
    "df = pd.read_csv(\"litres_dataset.csv\", delimiter=',')"
   ]
  },
  {
   "cell_type": "markdown",
   "metadata": {},
   "source": [
    "### 1. Выведите первые 5 строк датасета. (0.25). Сколько в нём строк и столбцов (0.25)?"
   ]
  },
  {
   "cell_type": "code",
   "execution_count": 49,
   "metadata": {},
   "outputs": [
    {
     "data": {
      "text/html": [
       "<div>\n",
       "<style scoped>\n",
       "    .dataframe tbody tr th:only-of-type {\n",
       "        vertical-align: middle;\n",
       "    }\n",
       "\n",
       "    .dataframe tbody tr th {\n",
       "        vertical-align: top;\n",
       "    }\n",
       "\n",
       "    .dataframe thead th {\n",
       "        text-align: right;\n",
       "    }\n",
       "</style>\n",
       "<table border=\"1\" class=\"dataframe\">\n",
       "  <thead>\n",
       "    <tr style=\"text-align: right;\">\n",
       "      <th></th>\n",
       "      <th>name</th>\n",
       "      <th>authors</th>\n",
       "      <th>link</th>\n",
       "      <th>rating</th>\n",
       "      <th>rating_count</th>\n",
       "      <th>review_count</th>\n",
       "      <th>pages_count</th>\n",
       "      <th>price</th>\n",
       "      <th>text_reviews</th>\n",
       "      <th>age</th>\n",
       "      <th>year</th>\n",
       "    </tr>\n",
       "  </thead>\n",
       "  <tbody>\n",
       "    <tr>\n",
       "      <th>0</th>\n",
       "      <td>Изучаем DDD – предметно-ориентированное проект...</td>\n",
       "      <td>['Влад Хононов']</td>\n",
       "      <td>/book/vlad-hononov/izuchaem-ddd-predmetno-orie...</td>\n",
       "      <td>0.00</td>\n",
       "      <td>0</td>\n",
       "      <td>1</td>\n",
       "      <td>319</td>\n",
       "      <td>549.0</td>\n",
       "      <td>['&lt;p&gt;Эта книга из той лиги, в которой я пока н...</td>\n",
       "      <td>0</td>\n",
       "      <td>2022-01-01</td>\n",
       "    </tr>\n",
       "    <tr>\n",
       "      <th>1</th>\n",
       "      <td>Начинаем программировать на Python</td>\n",
       "      <td>['Тони Гэддис']</td>\n",
       "      <td>/book/toni-geddis-32491161/nachinaem-programmi...</td>\n",
       "      <td>4.94</td>\n",
       "      <td>16</td>\n",
       "      <td>6</td>\n",
       "      <td>875</td>\n",
       "      <td>599.0</td>\n",
       "      <td>['&lt;p&gt;Шикарная книга! Начал изучать Python само...</td>\n",
       "      <td>12</td>\n",
       "      <td>2021-01-01</td>\n",
       "    </tr>\n",
       "    <tr>\n",
       "      <th>2</th>\n",
       "      <td>Высоконагруженные приложения. Программирование...</td>\n",
       "      <td>['Мартин Клеппман']</td>\n",
       "      <td>/book/martin-kleppman-1733/vysokonagruzhennye-...</td>\n",
       "      <td>3.98</td>\n",
       "      <td>51</td>\n",
       "      <td>11</td>\n",
       "      <td>640</td>\n",
       "      <td>799.0</td>\n",
       "      <td>['&lt;p&gt;Не могу что-либо про перевод сказать, чит...</td>\n",
       "      <td>16</td>\n",
       "      <td>2017-01-01</td>\n",
       "    </tr>\n",
       "    <tr>\n",
       "      <th>3</th>\n",
       "      <td>System Design. Подготовка к сложному интервью</td>\n",
       "      <td>['Алекс Сюй']</td>\n",
       "      <td>/book/aleks-suy/system-design-podgotovka-k-slo...</td>\n",
       "      <td>3.59</td>\n",
       "      <td>17</td>\n",
       "      <td>9</td>\n",
       "      <td>304</td>\n",
       "      <td>699.0</td>\n",
       "      <td>['&lt;p&gt;Добротная книга по разработке архитектуры...</td>\n",
       "      <td>16</td>\n",
       "      <td>2020-01-01</td>\n",
       "    </tr>\n",
       "    <tr>\n",
       "      <th>4</th>\n",
       "      <td>Нейросети начало</td>\n",
       "      <td>['Джейд Картер']</td>\n",
       "      <td>/book/dzheyd-karter/neyroseti-nachalo-69188950/</td>\n",
       "      <td>4.87</td>\n",
       "      <td>433</td>\n",
       "      <td>37</td>\n",
       "      <td>102</td>\n",
       "      <td>690.0</td>\n",
       "      <td>['&lt;p&gt;Книга отличная. Давно хотела понять как в...</td>\n",
       "      <td>12</td>\n",
       "      <td>2023-04-19</td>\n",
       "    </tr>\n",
       "  </tbody>\n",
       "</table>\n",
       "</div>"
      ],
      "text/plain": [
       "                                                name              authors  \\\n",
       "0  Изучаем DDD – предметно-ориентированное проект...     ['Влад Хононов']   \n",
       "1                 Начинаем программировать на Python      ['Тони Гэддис']   \n",
       "2  Высоконагруженные приложения. Программирование...  ['Мартин Клеппман']   \n",
       "3      System Design. Подготовка к сложному интервью        ['Алекс Сюй']   \n",
       "4                                   Нейросети начало     ['Джейд Картер']   \n",
       "\n",
       "                                                link  rating  rating_count  \\\n",
       "0  /book/vlad-hononov/izuchaem-ddd-predmetno-orie...    0.00             0   \n",
       "1  /book/toni-geddis-32491161/nachinaem-programmi...    4.94            16   \n",
       "2  /book/martin-kleppman-1733/vysokonagruzhennye-...    3.98            51   \n",
       "3  /book/aleks-suy/system-design-podgotovka-k-slo...    3.59            17   \n",
       "4    /book/dzheyd-karter/neyroseti-nachalo-69188950/    4.87           433   \n",
       "\n",
       "   review_count  pages_count  price  \\\n",
       "0             1          319  549.0   \n",
       "1             6          875  599.0   \n",
       "2            11          640  799.0   \n",
       "3             9          304  699.0   \n",
       "4            37          102  690.0   \n",
       "\n",
       "                                        text_reviews  age        year  \n",
       "0  ['<p>Эта книга из той лиги, в которой я пока н...    0  2022-01-01  \n",
       "1  ['<p>Шикарная книга! Начал изучать Python само...   12  2021-01-01  \n",
       "2  ['<p>Не могу что-либо про перевод сказать, чит...   16  2017-01-01  \n",
       "3  ['<p>Добротная книга по разработке архитектуры...   16  2020-01-01  \n",
       "4  ['<p>Книга отличная. Давно хотела понять как в...   12  2023-04-19  "
      ]
     },
     "execution_count": 49,
     "metadata": {},
     "output_type": "execute_result"
    }
   ],
   "source": [
    "df.head(5)"
   ]
  },
  {
   "cell_type": "code",
   "execution_count": 50,
   "metadata": {},
   "outputs": [
    {
     "name": "stdout",
     "output_type": "stream",
     "text": [
      "Number of Rows: 2740\n",
      "Number of Columns: 11\n"
     ]
    }
   ],
   "source": [
    "rows = len(df.axes[0])\n",
    "cols = len(df.axes[1])\n",
    "print(f'Number of Rows: {rows}')\n",
    "print(f'Number of Columns: {cols}')\n"
   ]
  },
  {
   "cell_type": "markdown",
   "metadata": {},
   "source": [
    "### 2. Есть ли в датасете пропуски? (0.5)"
   ]
  },
  {
   "cell_type": "code",
   "execution_count": 51,
   "metadata": {},
   "outputs": [
    {
     "name": "stdout",
     "output_type": "stream",
     "text": [
      "Total missing values: 646\n",
      "Columns with missing data: ['price', 'year']\n"
     ]
    }
   ],
   "source": [
    "total_missing_values = df.isnull().sum().sum()\n",
    "print(f'Total missing values: {total_missing_values}')\n",
    "\n",
    "missing_values_per_column = df.isnull().sum()\n",
    "columns_with_missing_data = missing_values_per_column[missing_values_per_column > 0].index.tolist()\n",
    "print(f'Columns with missing data: {columns_with_missing_data}')"
   ]
  },
  {
   "cell_type": "markdown",
   "metadata": {},
   "source": [
    "### 3. Проверьте типы данных. Если это необходимо, приведите к типам int и float те столбцы, с которыми понадобится работать как с числами. (1)."
   ]
  },
  {
   "cell_type": "code",
   "execution_count": 52,
   "metadata": {},
   "outputs": [
    {
     "name": "stdout",
     "output_type": "stream",
     "text": [
      "Data types name             object\n",
      "authors          object\n",
      "link             object\n",
      "rating          float64\n",
      "rating_count      int64\n",
      "review_count      int64\n",
      "pages_count       int64\n",
      "price           float64\n",
      "text_reviews     object\n",
      "age               int64\n",
      "year             object\n",
      "dtype: object\n"
     ]
    }
   ],
   "source": [
    "print(f'Data types {df.dtypes}')"
   ]
  },
  {
   "cell_type": "markdown",
   "metadata": {},
   "source": [
    "### 4. Выведите описательные статистики переменных. Ответьте на следующие вопросы: Какая медианная цена книги в вашем датасете? (1)"
   ]
  },
  {
   "cell_type": "code",
   "execution_count": 53,
   "metadata": {},
   "outputs": [
    {
     "name": "stdout",
     "output_type": "stream",
     "text": [
      "Book median price: 399.0\n"
     ]
    }
   ],
   "source": [
    "price_non_null = df['price'].dropna()\n",
    "median_price_non_null = price_non_null.median()\n",
    "print(f'Book median price: {median_price_non_null}')\n"
   ]
  },
  {
   "cell_type": "markdown",
   "metadata": {},
   "source": [
    "### 5. Какое возрастное ограничение встречается чаще всего? (1)"
   ]
  },
  {
   "cell_type": "code",
   "execution_count": 54,
   "metadata": {},
   "outputs": [
    {
     "name": "stdout",
     "output_type": "stream",
     "text": [
      "Most frequent age restriction: [0]\n"
     ]
    }
   ],
   "source": [
    "print(f'Most frequent age restriction: {df.age.mode().values}')\n"
   ]
  },
  {
   "cell_type": "markdown",
   "metadata": {},
   "source": [
    "### 6. Какое среднее число отзывов в книге? (1)\n",
    "\n",
    "\n"
   ]
  },
  {
   "cell_type": "code",
   "execution_count": 55,
   "metadata": {},
   "outputs": [
    {
     "name": "stdout",
     "output_type": "stream",
     "text": [
      "Average reviews count: 1.1843065693430657\n"
     ]
    }
   ],
   "source": [
    "print(f'Average reviews count: {df.review_count.mean()}')"
   ]
  },
  {
   "cell_type": "markdown",
   "metadata": {},
   "source": [
    "### 7. Сколько книг имеют оценку ниже 4.25? (1)"
   ]
  },
  {
   "cell_type": "code",
   "execution_count": 56,
   "metadata": {},
   "outputs": [
    {
     "name": "stdout",
     "output_type": "stream",
     "text": [
      "Amount of books with rating < 4.25: 21593\n"
     ]
    }
   ],
   "source": [
    "df_rating = df[df.rating < 4.25]\n",
    "print(f'Amount of books with rating < 4.25: {df_rating.size}')"
   ]
  },
  {
   "cell_type": "markdown",
   "metadata": {},
   "source": [
    "### 8. В каком году было написано больше всего книг из датасета? (1)"
   ]
  },
  {
   "cell_type": "code",
   "execution_count": 57,
   "metadata": {},
   "outputs": [
    {
     "name": "stdout",
     "output_type": "stream",
     "text": [
      "Most frequent year: ['2021']\n"
     ]
    }
   ],
   "source": [
    "df['year'] = df['year'].str.split('-').str[0]\n",
    "print(f'Most frequent year: {df.year.mode().values}')"
   ]
  },
  {
   "cell_type": "markdown",
   "metadata": {},
   "source": [
    "### 9. Создайте новое поле is_popular. Значение равно 1, если рейтинг книги не менее 4.6 и при этом у нее не менее 5 отзывов, и 0 в остальных случаях. (1)"
   ]
  },
  {
   "cell_type": "code",
   "execution_count": 58,
   "metadata": {},
   "outputs": [
    {
     "data": {
      "text/html": [
       "<div>\n",
       "<style scoped>\n",
       "    .dataframe tbody tr th:only-of-type {\n",
       "        vertical-align: middle;\n",
       "    }\n",
       "\n",
       "    .dataframe tbody tr th {\n",
       "        vertical-align: top;\n",
       "    }\n",
       "\n",
       "    .dataframe thead th {\n",
       "        text-align: right;\n",
       "    }\n",
       "</style>\n",
       "<table border=\"1\" class=\"dataframe\">\n",
       "  <thead>\n",
       "    <tr style=\"text-align: right;\">\n",
       "      <th></th>\n",
       "      <th>name</th>\n",
       "      <th>authors</th>\n",
       "      <th>link</th>\n",
       "      <th>rating</th>\n",
       "      <th>rating_count</th>\n",
       "      <th>review_count</th>\n",
       "      <th>pages_count</th>\n",
       "      <th>price</th>\n",
       "      <th>text_reviews</th>\n",
       "      <th>age</th>\n",
       "      <th>year</th>\n",
       "      <th>is_popular</th>\n",
       "    </tr>\n",
       "  </thead>\n",
       "  <tbody>\n",
       "    <tr>\n",
       "      <th>1</th>\n",
       "      <td>Начинаем программировать на Python</td>\n",
       "      <td>['Тони Гэддис']</td>\n",
       "      <td>/book/toni-geddis-32491161/nachinaem-programmi...</td>\n",
       "      <td>4.94</td>\n",
       "      <td>16</td>\n",
       "      <td>6</td>\n",
       "      <td>875</td>\n",
       "      <td>599.0</td>\n",
       "      <td>['&lt;p&gt;Шикарная книга! Начал изучать Python само...</td>\n",
       "      <td>12</td>\n",
       "      <td>2021</td>\n",
       "      <td>1</td>\n",
       "    </tr>\n",
       "    <tr>\n",
       "      <th>4</th>\n",
       "      <td>Нейросети начало</td>\n",
       "      <td>['Джейд Картер']</td>\n",
       "      <td>/book/dzheyd-karter/neyroseti-nachalo-69188950/</td>\n",
       "      <td>4.87</td>\n",
       "      <td>433</td>\n",
       "      <td>37</td>\n",
       "      <td>102</td>\n",
       "      <td>690.0</td>\n",
       "      <td>['&lt;p&gt;Книга отличная. Давно хотела понять как в...</td>\n",
       "      <td>12</td>\n",
       "      <td>2023</td>\n",
       "      <td>1</td>\n",
       "    </tr>\n",
       "    <tr>\n",
       "      <th>5</th>\n",
       "      <td>Python Библиотеки</td>\n",
       "      <td>['Джейд Картер']</td>\n",
       "      <td>/book/dzheyd-karter/python-biblioteki-70323379/</td>\n",
       "      <td>4.97</td>\n",
       "      <td>339</td>\n",
       "      <td>11</td>\n",
       "      <td>192</td>\n",
       "      <td>690.0</td>\n",
       "      <td>['&lt;p&gt;На каждую библиотеку в книге приводится п...</td>\n",
       "      <td>12</td>\n",
       "      <td>2024</td>\n",
       "      <td>1</td>\n",
       "    </tr>\n",
       "    <tr>\n",
       "      <th>10</th>\n",
       "      <td>Go. Идиомы и паттерны проектирования (pdf + epub)</td>\n",
       "      <td>['Джон Боднер']</td>\n",
       "      <td>/book/dzhon-bodner/go-idiomy-i-patterny-proekt...</td>\n",
       "      <td>5.00</td>\n",
       "      <td>7</td>\n",
       "      <td>5</td>\n",
       "      <td>416</td>\n",
       "      <td>699.0</td>\n",
       "      <td>['&lt;p&gt;Странно, что у этой книги нет отзывов. Да...</td>\n",
       "      <td>16</td>\n",
       "      <td>2021</td>\n",
       "      <td>1</td>\n",
       "    </tr>\n",
       "    <tr>\n",
       "      <th>13</th>\n",
       "      <td>Создай свой VPN. Безопасное использование инте...</td>\n",
       "      <td>['Джейд Картер']</td>\n",
       "      <td>/book/dzheyd-karter/sozday-svoy-vpn-bezopasnoe...</td>\n",
       "      <td>4.98</td>\n",
       "      <td>240</td>\n",
       "      <td>8</td>\n",
       "      <td>280</td>\n",
       "      <td>690.0</td>\n",
       "      <td>['&lt;p&gt;Нашел в книге решение своей ошибки. В общ...</td>\n",
       "      <td>12</td>\n",
       "      <td>2024</td>\n",
       "      <td>1</td>\n",
       "    </tr>\n",
       "  </tbody>\n",
       "</table>\n",
       "</div>"
      ],
      "text/plain": [
       "                                                 name           authors  \\\n",
       "1                  Начинаем программировать на Python   ['Тони Гэддис']   \n",
       "4                                    Нейросети начало  ['Джейд Картер']   \n",
       "5                                   Python Библиотеки  ['Джейд Картер']   \n",
       "10  Go. Идиомы и паттерны проектирования (pdf + epub)   ['Джон Боднер']   \n",
       "13  Создай свой VPN. Безопасное использование инте...  ['Джейд Картер']   \n",
       "\n",
       "                                                 link  rating  rating_count  \\\n",
       "1   /book/toni-geddis-32491161/nachinaem-programmi...    4.94            16   \n",
       "4     /book/dzheyd-karter/neyroseti-nachalo-69188950/    4.87           433   \n",
       "5     /book/dzheyd-karter/python-biblioteki-70323379/    4.97           339   \n",
       "10  /book/dzhon-bodner/go-idiomy-i-patterny-proekt...    5.00             7   \n",
       "13  /book/dzheyd-karter/sozday-svoy-vpn-bezopasnoe...    4.98           240   \n",
       "\n",
       "    review_count  pages_count  price  \\\n",
       "1              6          875  599.0   \n",
       "4             37          102  690.0   \n",
       "5             11          192  690.0   \n",
       "10             5          416  699.0   \n",
       "13             8          280  690.0   \n",
       "\n",
       "                                         text_reviews  age  year  is_popular  \n",
       "1   ['<p>Шикарная книга! Начал изучать Python само...   12  2021           1  \n",
       "4   ['<p>Книга отличная. Давно хотела понять как в...   12  2023           1  \n",
       "5   ['<p>На каждую библиотеку в книге приводится п...   12  2024           1  \n",
       "10  ['<p>Странно, что у этой книги нет отзывов. Да...   16  2021           1  \n",
       "13  ['<p>Нашел в книге решение своей ошибки. В общ...   12  2024           1  "
      ]
     },
     "execution_count": 58,
     "metadata": {},
     "output_type": "execute_result"
    }
   ],
   "source": [
    "def is_popular(row):\n",
    "    if row['rating'] >= 4.6 and row['review_count'] >= 5:\n",
    "        return 1\n",
    "    return 0\n",
    "df['is_popular'] = df.apply(is_popular, axis=1)\n",
    "popular_books = df[df.is_popular == 1]\n",
    "popular_books.head()\n"
   ]
  },
  {
   "cell_type": "markdown",
   "metadata": {},
   "source": [
    "### 10. Как отличается среднее число страниц среди популярных и непопулярных книг? (2)"
   ]
  },
  {
   "cell_type": "code",
   "execution_count": 59,
   "metadata": {},
   "outputs": [
    {
     "name": "stdout",
     "output_type": "stream",
     "text": [
      "Popular books average pages count: 347.8235294117647\n",
      "Not popular books average pages count: 328.91130820399115\n"
     ]
    }
   ],
   "source": [
    "popular_books = df[df.is_popular == 1]\n",
    "not_popular_books = df[df.is_popular == 0]\n",
    "print(f'Popular books average pages count: {popular_books.pages_count.mean()}')\n",
    "print(f'Not popular books average pages count: {not_popular_books.pages_count.mean()}')\n"
   ]
  },
  {
   "cell_type": "markdown",
   "metadata": {},
   "source": [
    "### 11. Выведите топ-10 книг по числу отзывов. (2)."
   ]
  },
  {
   "cell_type": "code",
   "execution_count": 60,
   "metadata": {},
   "outputs": [
    {
     "data": {
      "text/html": [
       "<div>\n",
       "<style scoped>\n",
       "    .dataframe tbody tr th:only-of-type {\n",
       "        vertical-align: middle;\n",
       "    }\n",
       "\n",
       "    .dataframe tbody tr th {\n",
       "        vertical-align: top;\n",
       "    }\n",
       "\n",
       "    .dataframe thead th {\n",
       "        text-align: right;\n",
       "    }\n",
       "</style>\n",
       "<table border=\"1\" class=\"dataframe\">\n",
       "  <thead>\n",
       "    <tr style=\"text-align: right;\">\n",
       "      <th></th>\n",
       "      <th>review_count</th>\n",
       "      <th>name</th>\n",
       "      <th>link</th>\n",
       "    </tr>\n",
       "  </thead>\n",
       "  <tbody>\n",
       "    <tr>\n",
       "      <th>432</th>\n",
       "      <td>41</td>\n",
       "      <td>Оптимизация в Python</td>\n",
       "      <td>/book/dzheyd-karter/optimizaciya-v-python-6998...</td>\n",
       "    </tr>\n",
       "    <tr>\n",
       "      <th>4</th>\n",
       "      <td>37</td>\n",
       "      <td>Нейросети начало</td>\n",
       "      <td>/book/dzheyd-karter/neyroseti-nachalo-69188950/</td>\n",
       "    </tr>\n",
       "    <tr>\n",
       "      <th>196</th>\n",
       "      <td>30</td>\n",
       "      <td>Психбольница в руках пациентов. Алан Купер об ...</td>\n",
       "      <td>/book/alan-kuper/psihbolnica-v-rukah-pacientov...</td>\n",
       "    </tr>\n",
       "    <tr>\n",
       "      <th>112</th>\n",
       "      <td>28</td>\n",
       "      <td>Теоретический минимум по Computer Science. Все...</td>\n",
       "      <td>/book/vladston-ferreyra-fi/teoreticheskiy-mini...</td>\n",
       "    </tr>\n",
       "    <tr>\n",
       "      <th>318</th>\n",
       "      <td>27</td>\n",
       "      <td>Идеальный программист. Как стать профессионало...</td>\n",
       "      <td>/book/robert-s-martin/idealnyy-programmist-kak...</td>\n",
       "    </tr>\n",
       "    <tr>\n",
       "      <th>459</th>\n",
       "      <td>27</td>\n",
       "      <td>Говорят, в IT много платят. Как построить успе...</td>\n",
       "      <td>/book/elena-pravdina-25436/govoryat-v-it-mnogo...</td>\n",
       "    </tr>\n",
       "    <tr>\n",
       "      <th>137</th>\n",
       "      <td>25</td>\n",
       "      <td>#Сам себе программист. Как научиться программи...</td>\n",
       "      <td>/book/kori-althoff/sam-sebe-programmist-kak-na...</td>\n",
       "    </tr>\n",
       "    <tr>\n",
       "      <th>399</th>\n",
       "      <td>25</td>\n",
       "      <td>Базовые знания тестировщика веб-приложений</td>\n",
       "      <td>/book/vadim-ohapkin/bazovye-znaniya-testirovsc...</td>\n",
       "    </tr>\n",
       "    <tr>\n",
       "      <th>37</th>\n",
       "      <td>24</td>\n",
       "      <td>Сделай видеоигру один и не свихнись</td>\n",
       "      <td>/book/slava-gris/sdelay-videoigru-odin-i-ne-sv...</td>\n",
       "    </tr>\n",
       "    <tr>\n",
       "      <th>54</th>\n",
       "      <td>23</td>\n",
       "      <td>Как пасти котов. Наставление для программистов...</td>\n",
       "      <td>/book/dzh-hank-reynvoter/kak-pasti-kotov-nasta...</td>\n",
       "    </tr>\n",
       "  </tbody>\n",
       "</table>\n",
       "</div>"
      ],
      "text/plain": [
       "     review_count                                               name  \\\n",
       "432            41                               Оптимизация в Python   \n",
       "4              37                                   Нейросети начало   \n",
       "196            30  Психбольница в руках пациентов. Алан Купер об ...   \n",
       "112            28  Теоретический минимум по Computer Science. Все...   \n",
       "318            27  Идеальный программист. Как стать профессионало...   \n",
       "459            27  Говорят, в IT много платят. Как построить успе...   \n",
       "137            25  #Сам себе программист. Как научиться программи...   \n",
       "399            25         Базовые знания тестировщика веб-приложений   \n",
       "37             24                Сделай видеоигру один и не свихнись   \n",
       "54             23  Как пасти котов. Наставление для программистов...   \n",
       "\n",
       "                                                  link  \n",
       "432  /book/dzheyd-karter/optimizaciya-v-python-6998...  \n",
       "4      /book/dzheyd-karter/neyroseti-nachalo-69188950/  \n",
       "196  /book/alan-kuper/psihbolnica-v-rukah-pacientov...  \n",
       "112  /book/vladston-ferreyra-fi/teoreticheskiy-mini...  \n",
       "318  /book/robert-s-martin/idealnyy-programmist-kak...  \n",
       "459  /book/elena-pravdina-25436/govoryat-v-it-mnogo...  \n",
       "137  /book/kori-althoff/sam-sebe-programmist-kak-na...  \n",
       "399  /book/vadim-ohapkin/bazovye-znaniya-testirovsc...  \n",
       "37   /book/slava-gris/sdelay-videoigru-odin-i-ne-sv...  \n",
       "54   /book/dzh-hank-reynvoter/kak-pasti-kotov-nasta...  "
      ]
     },
     "execution_count": 60,
     "metadata": {},
     "output_type": "execute_result"
    }
   ],
   "source": [
    "df_sorted = df.sort_values('review_count', ascending=False)\n",
    "df_sorted[['review_count', 'name', 'link']].head(10)"
   ]
  },
  {
   "cell_type": "markdown",
   "metadata": {},
   "source": [
    "### 12. Найдите среднюю длину отзыва (в символах). (2)\n",
    "\n",
    "(Из отзывов не убирались html теги)"
   ]
  },
  {
   "cell_type": "code",
   "execution_count": 61,
   "metadata": {},
   "outputs": [
    {
     "name": "stdout",
     "output_type": "stream",
     "text": [
      "Average review lenght: 146.5824945210664\n"
     ]
    }
   ],
   "source": [
    "df['text_reviews'] = df['text_reviews'].apply(literal_eval)\n",
    "def get_avg_len(row):\n",
    "    reviews = row['text_reviews']\n",
    "    if not reviews:\n",
    "        return 0\n",
    "    sum_len = sum([len(review) for review in reviews])\n",
    "    return sum_len / len(reviews)\n",
    "\n",
    "df['avg_review_len'] = df.apply(get_avg_len, axis=1)\n",
    "print(f'Average review lenght: {df.avg_review_len.mean()}')"
   ]
  },
  {
   "cell_type": "markdown",
   "metadata": {},
   "source": [
    "### 13. Постройте таблицу корреляций числовых переменных. (1) Прокомментируйте результаты. (1)\n",
    "\n",
    "Видна высокая корреляция review_count и rating_count"
   ]
  },
  {
   "cell_type": "code",
   "execution_count": 62,
   "metadata": {},
   "outputs": [
    {
     "data": {
      "image/png": "[encoded data removed]",
      "text/plain": [
       "<Figure size 500x500 with 2 Axes>"
      ]
     },
     "metadata": {},
     "output_type": "display_data"
    }
   ],
   "source": [
    "df_for_corr = df[['rating_count','review_count', 'pages_count', 'price']]\n",
    "corr = df_for_corr[['rating_count','review_count', 'pages_count', 'price']].corr()\n",
    "f = plt.figure(figsize=(5, 5))\n",
    "plt.matshow(corr, fignum=f.number)\n",
    "plt.xticks(range(df_for_corr.select_dtypes(['number']).shape[1]), df_for_corr.select_dtypes(['number']).columns, fontsize=14, rotation=45)\n",
    "plt.yticks(range(df_for_corr.select_dtypes(['number']).shape[1]), df_for_corr.select_dtypes(['number']).columns, fontsize=14)\n",
    "cb = plt.colorbar()\n",
    "cb.ax.tick_params(labelsize=14)\n",
    "plt.title('Correlation Matrix', fontsize=16)\n",
    "plt.show()"
   ]
  },
  {
   "cell_type": "markdown",
   "metadata": {},
   "source": [
    "### 14. Постройте диаграмму рассеяния (scatterplot) количества страниц и количества отзывов. Не забудьте подписать график и оси. (1) Прокомментируйте полученные результаты. \n",
    "\n",
    "Чем больше страниц - тем меньше отзывов :)"
   ]
  },
  {
   "cell_type": "code",
   "execution_count": 63,
   "metadata": {},
   "outputs": [
    {
     "data": {
      "image/png": "[encoded data removed]",
      "text/plain": [
       "<Figure size 640x480 with 1 Axes>"
      ]
     },
     "metadata": {},
     "output_type": "display_data"
    }
   ],
   "source": [
    "ax1 = df.plot.scatter(x='pages_count', y='review_count')\n",
    "plt.show()\n"
   ]
  },
  {
   "cell_type": "markdown",
   "metadata": {},
   "source": [
    "### 15. Постройте линейный график: по оси Х год, по оси Y количество книг. (1) Прокомментируйте. (1)\n",
    "\n",
    "Как видно из графика, 2021 год является пиком числа написаных книг по программированию"
   ]
  },
  {
   "cell_type": "code",
   "execution_count": 64,
   "metadata": {},
   "outputs": [
    {
     "data": {
      "image/png": "[encoded data removed]",
      "text/plain": [
       "<Figure size 640x480 with 1 Axes>"
      ]
     },
     "metadata": {},
     "output_type": "display_data"
    }
   ],
   "source": [
    "grouped = df.groupby('year').size().reset_index(name='books_number')\n",
    "lines = grouped.plot.line(x='year', y='books_number')"
   ]
  },
  {
   "cell_type": "markdown",
   "metadata": {},
   "source": [
    "### 16. Постройте еще любые два графика по вашему усмотрению. (2) Прокомментируйте полученные результаты. (1.5)"
   ]
  },
  {
   "cell_type": "markdown",
   "metadata": {},
   "source": [
    "1. График изменения количества отзывов из года в год\n",
    "\n",
    "Как видно из графика, число отзывов в целом растет из года в год, хотя наблюдаются аномальные падения в 2021, 2023-2024 годах, что можно объяснить тем, что люди еще не успели прочитать книги и оставить отзывы + в 2024 году еще не выпущено максимальное число возможных книг, так что график к концу года может стабилизироваться"
   ]
  },
  {
   "cell_type": "code",
   "execution_count": 76,
   "metadata": {},
   "outputs": [
    {
     "data": {
      "image/png": "[encoded data removed]",
      "text/plain": [
       "<Figure size 640x480 with 1 Axes>"
      ]
     },
     "metadata": {},
     "output_type": "display_data"
    }
   ],
   "source": [
    "grouped_sum = df.groupby('year')['review_count'].sum().reset_index()\n",
    "lines = grouped_sum.plot.line(x='year', y='review_count')\n"
   ]
  },
  {
   "cell_type": "markdown",
   "metadata": {},
   "source": [
    "2. График изменения цены книги из года в год\n",
    "\n",
    "Можно наблюдать плавный рост цены на книги из года в год + высокую цену на книги написанные до 2000 года"
   ]
  },
  {
   "cell_type": "code",
   "execution_count": 118,
   "metadata": {},
   "outputs": [
    {
     "data": {
      "image/png": "[encoded data removed]",
      "text/plain": [
       "<Figure size 640x480 with 1 Axes>"
      ]
     },
     "metadata": {},
     "output_type": "display_data"
    }
   ],
   "source": [
    "grouped_avg = df.groupby('year')['price'].mean().reset_index()\n",
    "lines = grouped_avg.plot.line(x='year', y='price')"
   ]
  },
  {
   "cell_type": "markdown",
   "metadata": {},
   "source": [
    "### 17. Постройте таблицу с авторами книг с именем автора, количество книг в датасете, средней оценкой книг, средним количеством отзывов. (2)."
   ]
  },
  {
   "cell_type": "code",
   "execution_count": 117,
   "metadata": {},
   "outputs": [
    {
     "data": {
      "text/html": [
       "<div>\n",
       "<style scoped>\n",
       "    .dataframe tbody tr th:only-of-type {\n",
       "        vertical-align: middle;\n",
       "    }\n",
       "\n",
       "    .dataframe tbody tr th {\n",
       "        vertical-align: top;\n",
       "    }\n",
       "\n",
       "    .dataframe thead th {\n",
       "        text-align: right;\n",
       "    }\n",
       "</style>\n",
       "<table border=\"1\" class=\"dataframe\">\n",
       "  <thead>\n",
       "    <tr style=\"text-align: right;\">\n",
       "      <th></th>\n",
       "      <th>author</th>\n",
       "      <th>books_number</th>\n",
       "      <th>rating</th>\n",
       "      <th>review_count</th>\n",
       "    </tr>\n",
       "  </thead>\n",
       "  <tbody>\n",
       "    <tr>\n",
       "      <th>0</th>\n",
       "      <td>AGI Team Creative</td>\n",
       "      <td>4</td>\n",
       "      <td>0.00</td>\n",
       "      <td>0.0</td>\n",
       "    </tr>\n",
       "    <tr>\n",
       "      <th>1</th>\n",
       "      <td>Aahz  Maruch</td>\n",
       "      <td>1</td>\n",
       "      <td>1.00</td>\n",
       "      <td>0.0</td>\n",
       "    </tr>\n",
       "    <tr>\n",
       "      <th>2</th>\n",
       "      <td>Aaron  Saunders</td>\n",
       "      <td>1</td>\n",
       "      <td>1.00</td>\n",
       "      <td>0.0</td>\n",
       "    </tr>\n",
       "    <tr>\n",
       "      <th>3</th>\n",
       "      <td>Abhishek  Mishra</td>\n",
       "      <td>1</td>\n",
       "      <td>5.00</td>\n",
       "      <td>0.0</td>\n",
       "    </tr>\n",
       "    <tr>\n",
       "      <th>4</th>\n",
       "      <td>Adam  Cordeiro</td>\n",
       "      <td>1</td>\n",
       "      <td>0.00</td>\n",
       "      <td>0.0</td>\n",
       "    </tr>\n",
       "    <tr>\n",
       "      <th>...</th>\n",
       "      <td>...</td>\n",
       "      <td>...</td>\n",
       "      <td>...</td>\n",
       "      <td>...</td>\n",
       "    </tr>\n",
       "    <tr>\n",
       "      <th>2842</th>\n",
       "      <td>Янта Катупития</td>\n",
       "      <td>1</td>\n",
       "      <td>4.86</td>\n",
       "      <td>3.0</td>\n",
       "    </tr>\n",
       "    <tr>\n",
       "      <th>2843</th>\n",
       "      <td>Ярон Мински</td>\n",
       "      <td>1</td>\n",
       "      <td>5.00</td>\n",
       "      <td>2.0</td>\n",
       "    </tr>\n",
       "    <tr>\n",
       "      <th>2844</th>\n",
       "      <td>Ярослав Носек</td>\n",
       "      <td>1</td>\n",
       "      <td>0.00</td>\n",
       "      <td>0.0</td>\n",
       "    </tr>\n",
       "    <tr>\n",
       "      <th>2845</th>\n",
       "      <td>Яцек Галовиц</td>\n",
       "      <td>1</td>\n",
       "      <td>3.78</td>\n",
       "      <td>4.0</td>\n",
       "    </tr>\n",
       "    <tr>\n",
       "      <th>2846</th>\n",
       "      <td>Яшавант Канеткар</td>\n",
       "      <td>1</td>\n",
       "      <td>0.00</td>\n",
       "      <td>0.0</td>\n",
       "    </tr>\n",
       "  </tbody>\n",
       "</table>\n",
       "<p>2847 rows × 4 columns</p>\n",
       "</div>"
      ],
      "text/plain": [
       "                 author  books_number  rating  review_count\n",
       "0     AGI Team Creative             4    0.00           0.0\n",
       "1          Aahz  Maruch             1    1.00           0.0\n",
       "2       Aaron  Saunders             1    1.00           0.0\n",
       "3      Abhishek  Mishra             1    5.00           0.0\n",
       "4        Adam  Cordeiro             1    0.00           0.0\n",
       "...                 ...           ...     ...           ...\n",
       "2842     Янта Катупития             1    4.86           3.0\n",
       "2843        Ярон Мински             1    5.00           2.0\n",
       "2844      Ярослав Носек             1    0.00           0.0\n",
       "2845       Яцек Галовиц             1    3.78           4.0\n",
       "2846   Яшавант Канеткар             1    0.00           0.0\n",
       "\n",
       "[2847 rows x 4 columns]"
      ]
     },
     "execution_count": 117,
     "metadata": {},
     "output_type": "execute_result"
    }
   ],
   "source": [
    "df_new = df.copy()\n",
    "\n",
    "# we have list of authors, so we should explod it beforehands\n",
    "df_new['authors'] = df_new['authors'].apply(literal_eval)\n",
    "df_exploded = df_new.explode('authors').reset_index(drop=True)\n",
    "df_exploded.rename(columns={'authors': 'author'}, inplace=True)\n",
    "\n",
    "# creating 3 df and then merge them\n",
    "grouped_authors_book_count = df_exploded.groupby('author').size().reset_index(name='books_number')\n",
    "grouped_authors_rating = df_exploded.groupby('author')['rating'].mean().reset_index()\n",
    "grouped_authors_review_count = df_exploded.groupby('author')['review_count'].mean().reset_index()\n",
    "\n",
    "merged_book_count_rating = pd.merge(grouped_authors_book_count, grouped_authors_rating, how='inner', on='author')\n",
    "merged_all = pd.merge(merged_book_count_rating, grouped_authors_review_count, how='inner', on='author')\n",
    "merged_all\n"
   ]
  },
  {
   "cell_type": "markdown",
   "metadata": {},
   "source": [
    "\n",
    "### 18. Что еще интересного можно увидеть в этом датасете? Просмотрите на данные и ответьте на какие-нибудь вопросы, на которые не ответили в предыдущим пункте. Мы никак не ограничиваем вашу фантазию! (3)."
   ]
  },
  {
   "cell_type": "markdown",
   "metadata": {},
   "source": [
    "1. Можно проверить, число книг с названиями на русском языке. Как видно число книг с названием на русском языке превалирут\n",
    "2. Сравним средний рейтинг книг с названиями на русском и не русском языках. Как видно, рейтинг книг с названием на русском языке выше"
   ]
  },
  {
   "cell_type": "code",
   "execution_count": 131,
   "metadata": {},
   "outputs": [
    {
     "name": "stdout",
     "output_type": "stream",
     "text": [
      "Rus books amount: 2233\n",
      "Not Rus books amount: 507\n",
      "Rus books average rating: 2.6825078369905953\n",
      "Not Rus books average rating: 0.8124063116370809\n"
     ]
    }
   ],
   "source": [
    "import re\n",
    "def is_rus_name(row):\n",
    "    if bool(re.search('[\\u0400-\\u04FF]', row['name'])):\n",
    "        return 1\n",
    "    return 0\n",
    "df['is_rus_name'] = df.apply(is_rus_name, axis=1)\n",
    "rus_books = df[df.is_rus_name == 1]\n",
    "other_books = df[df.is_rus_name == 0]\n",
    "print(f'Rus books amount: {len(rus_books)}')\n",
    "print(f'Not Rus books amount: {len(other_books)}')\n",
    "\n",
    "print(f'Rus books average rating: {rus_books.rating.mean()}')\n",
    "print(f'Not Rus books average rating: {other_books.rating.mean()}')\n",
    "\n"
   ]
  }
 ],
 "metadata": {
  "kernelspec": {
   "display_name": "Python 3",
   "language": "python",
   "name": "python3"
  },
  "language_info": {
   "codemirror_mode": {
    "name": "ipython",
    "version": 3
   },
   "file_extension": ".py",
   "mimetype": "text/x-python",
   "name": "python",
   "nbconvert_exporter": "python",
   "pygments_lexer": "ipython3",
   "version": "3.10.13"
  }
 },
 "nbformat": 4,
 "nbformat_minor": 2
}
